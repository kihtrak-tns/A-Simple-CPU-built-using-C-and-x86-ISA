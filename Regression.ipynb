{
  "nbformat": 4,
  "nbformat_minor": 0,
  "metadata": {
    "colab": {
      "name": "Regression.ipynb",
      "provenance": [],
      "authorship_tag": "ABX9TyO9Hc904YF+uBKCB+VTDsUr",
      "include_colab_link": true
    },
    "kernelspec": {
      "name": "python3",
      "display_name": "Python 3"
    }
  },
  "cells": [
    {
      "cell_type": "markdown",
      "metadata": {
        "id": "view-in-github",
        "colab_type": "text"
      },
      "source": [
        "<a href=\"https://colab.research.google.com/github/kihtrak-tns/A-Simple-CPU-built-using-C-and-x86-ISA/blob/master/Regression.ipynb\" target=\"_parent\"><img src=\"https://colab.research.google.com/assets/colab-badge.svg\" alt=\"Open In Colab\"/></a>"
      ]
    },
    {
      "cell_type": "code",
      "metadata": {
        "id": "Ne7uy1hKPZyl",
        "colab_type": "code",
        "colab": {}
      },
      "source": [
        "import numpy as np\n",
        "import matplotlib.pyplot as plt\n",
        "from keras.models import Sequential\n",
        "from keras.layers import Dense\n",
        "from keras.optimizers import Adam"
      ],
      "execution_count": 0,
      "outputs": []
    },
    {
      "cell_type": "code",
      "metadata": {
        "id": "y-mFM-pKPhLu",
        "colab_type": "code",
        "colab": {
          "base_uri": "https://localhost:8080/",
          "height": 282
        },
        "outputId": "a5bb19d7-b3bb-458d-beea-ebc0ede27ab4"
      },
      "source": [
        "np.random.seed(0)\n",
        "points = 500\n",
        "X = np.linspace(-3, 3, points)\n",
        "\n",
        "# Add noise to our sine curve along y in the range (-0.5, 0.5)\n",
        "y = np.sin(X) + np.random.uniform(-0.5, 0.5, points)\n",
        "\n",
        "plt.scatter(X,y)\n"
      ],
      "execution_count": 4,
      "outputs": [
        {
          "output_type": "execute_result",
          "data": {
            "text/plain": [
              "<matplotlib.collections.PathCollection at 0x7f02e811e400>"
            ]
          },
          "metadata": {
            "tags": []
          },
          "execution_count": 4
        },
        {
          "output_type": "display_data",
          "data": {
            "image/png": "[encoded data removed]",
            "text/plain": [
              "<Figure size 432x288 with 1 Axes>"
            ]
          },
          "metadata": {
            "tags": []
          }
        }
      ]
    },
    {
      "cell_type": "markdown",
      "metadata": {
        "id": "mXOz0Cqajhsm",
        "colab_type": "text"
      },
      "source": [
        "# We're going to obtain a model that fits the above dataset"
      ]
    },
    {
      "cell_type": "code",
      "metadata": {
        "id": "jM3nGfyFjl-T",
        "colab_type": "code",
        "colab": {
          "base_uri": "https://localhost:8080/",
          "height": 139
        },
        "outputId": "48380126-4cd3-4d0a-e52b-ee20533bc93d"
      },
      "source": [
        "model = Sequential()\n",
        "\n",
        "# We deal with a single input node in here because the response variable y is dependent on the independent \n",
        "## variable x\n",
        "model.add(Dense(50, activation = 'sigmoid', input_dim = 1))\n",
        "model.add(Dense(30, activation = 'sigmoid'))\n",
        "\n",
        "# We're going to predict the output for just y\n",
        "model.add(Dense(1))"
      ],
      "execution_count": 10,
      "outputs": [
        {
          "output_type": "stream",
          "text": [
            "WARNING:tensorflow:From /usr/local/lib/python3.6/dist-packages/keras/backend/tensorflow_backend.py:66: The name tf.get_default_graph is deprecated. Please use tf.compat.v1.get_default_graph instead.\n",
            "\n",
            "WARNING:tensorflow:From /usr/local/lib/python3.6/dist-packages/keras/backend/tensorflow_backend.py:541: The name tf.placeholder is deprecated. Please use tf.compat.v1.placeholder instead.\n",
            "\n",
            "WARNING:tensorflow:From /usr/local/lib/python3.6/dist-packages/keras/backend/tensorflow_backend.py:4432: The name tf.random_uniform is deprecated. Please use tf.random.uniform instead.\n",
            "\n"
          ],
          "name": "stdout"
        }
      ]
    },
    {
      "cell_type": "code",
      "metadata": {
        "id": "c58rtxiOn-K9",
        "colab_type": "code",
        "colab": {
          "base_uri": "https://localhost:8080/",
          "height": 1000
        },
        "outputId": "7eed80f1-5ec8-45a5-f568-7fa4d366459b"
      },
      "source": [
        "adam = Adam(lr = 0.01)\n",
        "\n",
        "# The mean square error computes the linear distance of the actual data points from the predicted points \n",
        "## on the regeression line that is calculated in the opposite direction of greatest ascent iteratively to\n",
        "## obtain parameters ( or weights) that gives us the best predictions with least error\n",
        "model.compile(loss='mse', optimizer = adam)\n",
        "model.fit(X, y, epochs = 50)"
      ],
      "execution_count": 12,
      "outputs": [
        {
          "output_type": "stream",
          "text": [
            "WARNING:tensorflow:From /usr/local/lib/python3.6/dist-packages/keras/backend/tensorflow_backend.py:1033: The name tf.assign_add is deprecated. Please use tf.compat.v1.assign_add instead.\n",
            "\n",
            "WARNING:tensorflow:From /usr/local/lib/python3.6/dist-packages/keras/backend/tensorflow_backend.py:1020: The name tf.assign is deprecated. Please use tf.compat.v1.assign instead.\n",
            "\n",
            "WARNING:tensorflow:From /usr/local/lib/python3.6/dist-packages/keras/backend/tensorflow_backend.py:3005: The name tf.Session is deprecated. Please use tf.compat.v1.Session instead.\n",
            "\n",
            "Epoch 1/50\n",
            "WARNING:tensorflow:From /usr/local/lib/python3.6/dist-packages/keras/backend/tensorflow_backend.py:190: The name tf.get_default_session is deprecated. Please use tf.compat.v1.get_default_session instead.\n",
            "\n",
            "WARNING:tensorflow:From /usr/local/lib/python3.6/dist-packages/keras/backend/tensorflow_backend.py:197: The name tf.ConfigProto is deprecated. Please use tf.compat.v1.ConfigProto instead.\n",
            "\n",
            "WARNING:tensorflow:From /usr/local/lib/python3.6/dist-packages/keras/backend/tensorflow_backend.py:207: The name tf.global_variables is deprecated. Please use tf.compat.v1.global_variables instead.\n",
            "\n",
            "WARNING:tensorflow:From /usr/local/lib/python3.6/dist-packages/keras/backend/tensorflow_backend.py:216: The name tf.is_variable_initialized is deprecated. Please use tf.compat.v1.is_variable_initialized instead.\n",
            "\n",
            "WARNING:tensorflow:From /usr/local/lib/python3.6/dist-packages/keras/backend/tensorflow_backend.py:223: The name tf.variables_initializer is deprecated. Please use tf.compat.v1.variables_initializer instead.\n",
            "\n",
            "500/500 [==============================] - 1s 1ms/step - loss: 0.4592\n",
            "Epoch 2/50\n",
            "500/500 [==============================] - 0s 46us/step - loss: 0.2385\n",
            "Epoch 3/50\n",
            "500/500 [==============================] - 0s 50us/step - loss: 0.2639\n",
            "Epoch 4/50\n",
            "500/500 [==============================] - 0s 50us/step - loss: 0.2259\n",
            "Epoch 5/50\n",
            "500/500 [==============================] - 0s 63us/step - loss: 0.2281\n",
            "Epoch 6/50\n",
            "500/500 [==============================] - 0s 51us/step - loss: 0.2264\n",
            "Epoch 7/50\n",
            "500/500 [==============================] - 0s 61us/step - loss: 0.2193\n",
            "Epoch 8/50\n",
            "500/500 [==============================] - 0s 45us/step - loss: 0.2212\n",
            "Epoch 9/50\n",
            "500/500 [==============================] - 0s 49us/step - loss: 0.2072\n",
            "Epoch 10/50\n",
            "500/500 [==============================] - 0s 48us/step - loss: 0.1911\n",
            "Epoch 11/50\n",
            "500/500 [==============================] - 0s 43us/step - loss: 0.1910\n",
            "Epoch 12/50\n",
            "500/500 [==============================] - 0s 41us/step - loss: 0.1779\n",
            "Epoch 13/50\n",
            "500/500 [==============================] - 0s 46us/step - loss: 0.1682\n",
            "Epoch 14/50\n",
            "500/500 [==============================] - 0s 50us/step - loss: 0.1572\n",
            "Epoch 15/50\n",
            "500/500 [==============================] - 0s 48us/step - loss: 0.1550\n",
            "Epoch 16/50\n",
            "500/500 [==============================] - 0s 58us/step - loss: 0.1437\n",
            "Epoch 17/50\n",
            "500/500 [==============================] - 0s 54us/step - loss: 0.1367\n",
            "Epoch 18/50\n",
            "500/500 [==============================] - 0s 47us/step - loss: 0.1297\n",
            "Epoch 19/50\n",
            "500/500 [==============================] - 0s 44us/step - loss: 0.1212\n",
            "Epoch 20/50\n",
            "500/500 [==============================] - 0s 46us/step - loss: 0.1265\n",
            "Epoch 21/50\n",
            "500/500 [==============================] - 0s 52us/step - loss: 0.1172\n",
            "Epoch 22/50\n",
            "500/500 [==============================] - 0s 46us/step - loss: 0.1163\n",
            "Epoch 23/50\n",
            "500/500 [==============================] - 0s 40us/step - loss: 0.1176\n",
            "Epoch 24/50\n",
            "500/500 [==============================] - 0s 53us/step - loss: 0.1180\n",
            "Epoch 25/50\n",
            "500/500 [==============================] - 0s 46us/step - loss: 0.1116\n",
            "Epoch 26/50\n",
            "500/500 [==============================] - 0s 51us/step - loss: 0.1079\n",
            "Epoch 27/50\n",
            "500/500 [==============================] - 0s 66us/step - loss: 0.1113\n",
            "Epoch 28/50\n",
            "500/500 [==============================] - 0s 50us/step - loss: 0.1244\n",
            "Epoch 29/50\n",
            "500/500 [==============================] - 0s 58us/step - loss: 0.1237\n",
            "Epoch 30/50\n",
            "500/500 [==============================] - 0s 42us/step - loss: 0.1130\n",
            "Epoch 31/50\n",
            "500/500 [==============================] - 0s 43us/step - loss: 0.1077\n",
            "Epoch 32/50\n",
            "500/500 [==============================] - 0s 42us/step - loss: 0.1145\n",
            "Epoch 33/50\n",
            "500/500 [==============================] - 0s 58us/step - loss: 0.1083\n",
            "Epoch 34/50\n",
            "500/500 [==============================] - 0s 45us/step - loss: 0.1111\n",
            "Epoch 35/50\n",
            "500/500 [==============================] - 0s 45us/step - loss: 0.1047\n",
            "Epoch 36/50\n",
            "500/500 [==============================] - 0s 49us/step - loss: 0.1090\n",
            "Epoch 37/50\n",
            "500/500 [==============================] - 0s 66us/step - loss: 0.1067\n",
            "Epoch 38/50\n",
            "500/500 [==============================] - 0s 44us/step - loss: 0.1056\n",
            "Epoch 39/50\n",
            "500/500 [==============================] - 0s 46us/step - loss: 0.1051\n",
            "Epoch 40/50\n",
            "500/500 [==============================] - 0s 50us/step - loss: 0.1046\n",
            "Epoch 41/50\n",
            "500/500 [==============================] - 0s 44us/step - loss: 0.1155\n",
            "Epoch 42/50\n",
            "500/500 [==============================] - 0s 48us/step - loss: 0.1034\n",
            "Epoch 43/50\n",
            "500/500 [==============================] - 0s 44us/step - loss: 0.1029\n",
            "Epoch 44/50\n",
            "500/500 [==============================] - 0s 47us/step - loss: 0.1056\n",
            "Epoch 45/50\n",
            "500/500 [==============================] - 0s 50us/step - loss: 0.1018\n",
            "Epoch 46/50\n",
            "500/500 [==============================] - 0s 46us/step - loss: 0.1019\n",
            "Epoch 47/50\n",
            "500/500 [==============================] - 0s 45us/step - loss: 0.1129\n",
            "Epoch 48/50\n",
            "500/500 [==============================] - 0s 55us/step - loss: 0.1091\n",
            "Epoch 49/50\n",
            "500/500 [==============================] - 0s 42us/step - loss: 0.1052\n",
            "Epoch 50/50\n",
            "500/500 [==============================] - 0s 46us/step - loss: 0.1084\n"
          ],
          "name": "stdout"
        },
        {
          "output_type": "execute_result",
          "data": {
            "text/plain": [
              "<keras.callbacks.History at 0x7f029cd58320>"
            ]
          },
          "metadata": {
            "tags": []
          },
          "execution_count": 12
        }
      ]
    },
    {
      "cell_type": "code",
      "metadata": {
        "id": "GQRBWkzariEA",
        "colab_type": "code",
        "colab": {
          "base_uri": "https://localhost:8080/",
          "height": 265
        },
        "outputId": "5ec32a1f-2b94-46bc-aeaa-6765026db66a"
      },
      "source": [
        "predictions = model.predict(X)\n",
        "plt.scatter(X, y)\n",
        "plt.plot(X, predictions, 'ro')\n",
        "plt.show()"
      ],
      "execution_count": 13,
      "outputs": [
        {
          "output_type": "display_data",
          "data": {
            "image/png": "[encoded data removed]",
            "text/plain": [
              "<Figure size 432x288 with 1 Axes>"
            ]
          },
          "metadata": {
            "tags": []
          }
        }
      ]
    },
    {
      "cell_type": "markdown",
      "metadata": {
        "id": "CogEErLtsD0k",
        "colab_type": "text"
      },
      "source": [
        "Plots the estimated y for every x of our data"
      ]
    },
    {
      "cell_type": "code",
      "metadata": {
        "id": "NNDQgL8BsLTY",
        "colab_type": "code",
        "colab": {}
      },
      "source": [
        ""
      ],
      "execution_count": 0,
      "outputs": []
    }
  ]
}